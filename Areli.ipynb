{
  "nbformat": 4,
  "nbformat_minor": 0,
  "metadata": {
    "colab": {
      "name": "Areli.ipynb",
      "provenance": [],
      "collapsed_sections": [],
      "authorship_tag": "ABX9TyOAY0N5qzwxKnv1z2DCCt+B",
      "include_colab_link": true
    },
    "kernelspec": {
      "name": "python3",
      "display_name": "Python 3"
    }
  },
  "cells": [
    {
      "cell_type": "markdown",
      "metadata": {
        "id": "view-in-github",
        "colab_type": "text"
      },
      "source": [
        "<a href=\"https://colab.research.google.com/github/VRVG1/TECPITERO/blob/main/Areli.ipynb\" target=\"_parent\"><img src=\"https://colab.research.google.com/assets/colab-badge.svg\" alt=\"Open In Colab\"/></a>"
      ]
    },
    {
      "cell_type": "code",
      "metadata": {
        "id": "oJpSyuCOp_-g"
      },
      "source": [
        "#@markdown Metodo para validar valores introducidos\r\n",
        "\r\n",
        "while(True):\r\n",
        "  dato = int(input('Ingresar un valor del 0 al 199: '))\r\n",
        "  if(validacion(datoIn)):\r\n",
        "    break:\r\n",
        "\r\n",
        "def validacion(datoIn):\r\n",
        "  if(datoIn < 0 and datoIn > 199)\r\n",
        "    print('Ingrese un valor valido en el rango del 0 al 199')\r\n",
        "    return False\r\n",
        "  return True"
      ],
      "execution_count": null,
      "outputs": []
    },
    {
      "cell_type": "code",
      "metadata": {
        "colab": {
          "base_uri": "https://localhost:8080/"
        },
        "id": "f8BRJ7L8s4nu",
        "outputId": "79a98c9d-f517-4163-c4f1-400f66618916"
      },
      "source": [
        "#@markdown #Quicksort\r\n",
        "\r\n",
        "def quickSort(array):\r\n",
        "  menor = []\r\n",
        "  igual = []\r\n",
        "  mayor = []\r\n",
        "  if len(array) > 1:\r\n",
        "    pivote = array[0]\r\n",
        "    for i in array:\r\n",
        "      if i < pivote:\r\n",
        "        menor.append(i)\r\n",
        "      elif i == pivote:\r\n",
        "        igual.append(i)\r\n",
        "      else:\r\n",
        "        mayor.append(i)\r\n",
        "    return quickSort(menor)+igual+quickSort(mayor)\r\n",
        "  else:\r\n",
        "    return array\r\n",
        "\r\n",
        "A = [98,183,37,122,14,124,65,67]\r\n",
        "print(A)\r\n",
        "print(quickSort(A))\r\n"
      ],
      "execution_count": null,
      "outputs": [
        {
          "output_type": "stream",
          "text": [
            "[98, 183, 37, 122, 14, 124, 65, 67]\n",
            "[14, 37, 65, 67, 98, 122, 124, 183]\n"
          ],
          "name": "stdout"
        }
      ]
    },
    {
      "cell_type": "code",
      "metadata": {
        "colab": {
          "base_uri": "https://localhost:8080/"
        },
        "id": "X47we64V07Tm",
        "outputId": "e5957e88-c894-48bc-ab00-bd1d08ee84e4"
      },
      "source": [
        "#@markdown Encontrar punto medio del arreglo\r\n",
        "\r\n",
        "def puntoMedio(array, incial):\r\n",
        "  izq = None\r\n",
        "  der = None\r\n",
        "  for i in range(len(array)):\r\n",
        "    if inicial < array[i]:\r\n",
        "      if (i - 1 == -1):\r\n",
        "        izq = None\r\n",
        "        der = array[i]\r\n",
        "        print('Se uso 1')\r\n",
        "        break\r\n",
        "      else:\r\n",
        "        izq = array[i - 1]\r\n",
        "        der = array[i]\r\n",
        "        print('Se uso 1 alt')\r\n",
        "        break\r\n",
        "  if (izq == None and der == None):\r\n",
        "    izq = array[-1]\r\n",
        "    der = None\r\n",
        "    print('Es digito es mayor a que existe en el arreglo')\r\n",
        "  print('El punto de atras es,', izq, 'el de adelante es', der)\r\n",
        "\r\n",
        "A = [14, 37, 65, 67, 98, 122, 124, 183]\r\n",
        "inicial = 66\r\n",
        "puntoMedio(A, inicial)"
      ],
      "execution_count": null,
      "outputs": [
        {
          "output_type": "stream",
          "text": [
            "Se uso 1 alt\n",
            "El punto de atras es, 65 el de adelante es 67\n"
          ],
          "name": "stdout"
        }
      ]
    }
  ]
}